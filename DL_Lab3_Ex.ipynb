{
 "cells": [
  {
   "cell_type": "markdown",
   "metadata": {
    "id": "S02d9PimAZKJ"
   },
   "source": [
    "#Lab 3 Exercises for COMP 691 (Deep Learning)\n",
    "\n",
    "In this lab we will go over over basic stochastic optimization and how to use it in PyTorch.\n",
    "- You will use the neural network you setup in lab 2 Exercise 2.\n",
    "- Learn about parameter initialization.\n",
    "- Learn about cross entropy loss.\n",
    "- Train the neural network using mini-batch SGD w/o momentum.\n",
    "\n",
    "Start by making a **copy** of this notebook in your Google Colab.\n",
    "\n",
    "\n",
    "A good source for understanding leaf tensors is [here](https://stackoverflow.com/questions/65301875/how-to-understand-creating-leaf-tensors-in-pytorch)."
   ]
  },
  {
   "cell_type": "markdown",
   "metadata": {
    "id": "CIDPxv5l2qpI"
   },
   "source": [
    "## Exercise 1: Loading the dataset\n",
    "\n",
    "Setup the MNIST dataloaders for both the training (as well test) set as in Lab 2, Exercise 1. You do not need to iterate through the dataloaders, these will be used in the rest of the lab.\n"
   ]
  },
  {
   "cell_type": "code",
   "execution_count": null,
   "metadata": {
    "id": "HIv6h0xwUWyx"
   },
   "outputs": [],
   "source": [
    "# This cell does not require outputing anything but is setup for subsequent cells\n",
    "from torchvision import datasets,transforms\n",
    "import torch\n",
    "dataset1 = datasets.MNIST('../data', train=True, download=True, transform=transforms.ToTensor())\n",
    "train_loader = torch.utils.data.DataLoader(dataset1,\n",
    "                                           batch_size=256,\n",
    "                                           shuffle=True,\n",
    "                                           drop_last=True)\n",
    "\n",
    "device='cuda'\n",
    "\n",
    "for (data, target) in train_loader:\n",
    "  data = data.to(device)\n",
    "  target = target.to(device)\n",
    "print(data.shape)\n",
    "print(target.shape)"
   ]
  },
  {
   "cell_type": "markdown",
   "metadata": {
    "id": "14MBuiusdZmA"
   },
   "source": [
    "## Exercise 2: Setting up the neural network\n",
    "\n",
    "Consider your work from Lab 2, Exercise 2. Modify the neural network as follows.\n",
    "- The hidden outputs should have size 100 in both hidden layers and the activations should be `relu`.\n",
    "- Modify the final layer to output 10 values instead of 1. This means that instead of having a single scalar value, you will have 10 output classes!\n",
    "\n",
    "Your code should implement\n",
    "\n",
    "$$f(x) = W_2\\rho(W_1\\rho(W_0x+b_0)+b_1)+b_2$$\n",
    "\n",
    "with $f: R^{786}-> R^{10}$ and $\\rho = $ `relu`\n",
    "\n",
    "**Initialize** the weights  using a variant of xavier intialization\n",
    "\n",
    "$$w_{ij} \\sim \\text{N}\\left(0,\\frac{1}{\\sqrt{n_i}}\\right)$$\n",
    "\n",
    "where $n_i$ is the size of the layer input. Initialize the biases as 0.\n",
    "\n",
    "**Write** a helper function to perform this initialization for subsequent parts of this lab."
   ]
  },
  {
   "cell_type": "code",
   "execution_count": null,
   "metadata": {
    "id": "bhZ0I_q7dnb9"
   },
   "outputs": [],
   "source": [
    "import torch\n",
    "\n",
    "# set your target device\n",
    "\n",
    "\n",
    "## Initialize and track the parameters using a list or dictionary\n",
    "param_dict = {\n",
    "    \"W0\": None,\n",
    "    \"b0\": None,\n",
    "    \"W1\": None,\n",
    "    \"b1\": None,\n",
    "    \"W2\": None,\n",
    "    \"b2\": None,\n",
    "    }\n",
    "\n",
    "## Make sure your parameters in param_dict are on the chosen device and that they require gradient for training the network later!\n",
    "\n",
    "## Define the network\n",
    "def my_nn(input, param_dict):\n",
    "    \"\"\"Performs a single forward pass of a Neural Network with the given\n",
    "    parameters in param_dict.\n",
    "\n",
    "    Args:\n",
    "        input (torch.tensor): Batch of images of shape (B, H, W), where B is\n",
    "            the number of input samples,and H and W are the image height and\n",
    "            width respectively.\n",
    "        param_dict (dict of torch.tensor): Dictionary containing the parameters\n",
    "            of the neural network. Expects dictionary keys to be of format\n",
    "            \"W#\" and \"b#\" where # is the layer number.\n",
    "\n",
    "    Returns:\n",
    "        torch.tensor: Neural network output of shape (B, )\n",
    "    \"\"\"\n",
    "    pass\n",
    "\n",
    "\n",
    "def initialize_nn(param_dict)\n",
    "  \"\"\"Takes a dictionary with existing torch tensors\n",
    "      and re-initializes them using xavier initialization\n",
    "  \"\"\"\n",
    "\n",
    "  # make sure that your parameters are on the chosen device and that they require gradients!\n",
    "  pass"
   ]
  },
  {
   "cell_type": "markdown",
   "metadata": {
    "id": "VTDfIZSOk1mF"
   },
   "source": [
    "Now, we will evaluate the cross entropy loss and average accuracy on this randomly initialized dataset.\n",
    "\n",
    "Use the `torch.nn.functional.cross_entropy()` function to compute the loss $\\frac{1}{N}\\sum_i^N \\text{CrossEntropy}(f(x_i),y_i)$ and accuracy.\n",
    "\n",
    "Your accuracy should be close to $10\\%$ as the network has random weights and no training has happened yet!"
   ]
  },
  {
   "cell_type": "code",
   "execution_count": null,
   "metadata": {
    "id": "vq3Zh5A_lBOV"
   },
   "outputs": [],
   "source": [
    "cuda = torch.cuda.is_available()\n",
    "\n",
    "for data, targets in test_dataloader:\n",
    "  #move to GPU if available\n",
    "  if cuda:\n",
    "    data, target = data.to('cuda'), target.to('cuda')\n",
    "\n",
    "  #compute model output\n",
    "\n",
    "  #comptue accuracy for minibatch\n",
    "\n",
    "  #compute loss for minibatch\n",
    "\n",
    "#aggregate loss and accuracy for all test data\n",
    "\n",
    "\n"
   ]
  },
  {
   "cell_type": "markdown",
   "metadata": {
    "id": "jqKxv88wTYFo"
   },
   "source": [
    "## Exercise 3: Training using mini-batch SGD from scratch\n",
    "\n",
    "Without using the `torch.optim` package implement from scratch mini-batch Stochastic Gradient Descent training to minimize the loss  $\\frac{1}{N}\\sum_i^N \\text{CrossEntropy}(f(x_i),y_i)$ over the MNIST dataset.\n",
    "\n",
    "- Use a minibatch size of 128 and a learning rate of 0.01. Run the training for 20 epochs.\n",
    "\n",
    "- You will PyTorch's autograd features (e.g. `.backward()`) to obtain the gradients given each mini-batch at each parameter. Modify the existing parameters based on the obtained gradient using the SGD update rule, e.g. $w = w - \\alpha * \\frac{\\partial loss}{\\partial w}$.\n",
    "\n",
    "- Store the losses and training of each minibatch and plot each of these (with iterations (not epochs) as the $x$-axis). You can optionally smooth out these plots over 20-100 iteration window of your choosing to make them cleaner to read.\n",
    "\n",
    "- Compute and report the final test accuracy as well at the end of the 20 epochs.\n",
    "\n",
    "\n",
    "You should end up with 2 plots and a final test accuracy that looks something like this\n",
    "\n",
    "![download.png](data:image/png;base64,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)\n"
   ]
  },
  {
   "cell_type": "code",
   "execution_count": null,
   "metadata": {
    "id": "S4Lw5vyAegCC"
   },
   "outputs": [],
   "source": [
    "import torch\n",
    "\n",
    "\n",
    "train_losses = [] # use to append the avg loss for each minibatch\n",
    "train_accs = [] # use to append the avg acc of minibatch\n",
    "\n",
    "alpha=0.01\n",
    "\n",
    "\n",
    "for epoch in range(20):\n",
    "  for  ... #Iterate over dataset\n",
    "    #Compute the gradient for the minibatch\n",
    "\n",
    "\n",
    "\n",
    "\n",
    "    for (_,param) in param_dict.items():\n",
    "      with torch.no_grad():\n",
    "        #Update the model parameters by w_t-alpha*grad\n",
    "      if param.grad is not None:\n",
    "        #The following code will clear the gradient buffers for the next iteration\n",
    "        param.grad.detach_()\n",
    "        param.grad.zero_()\n",
    "\n",
    "    #Update loss and acc tracking\n",
    "\n",
    "#Plot the train loss and acc\n",
    "\n",
    "#Evaluate on the test set"
   ]
  },
  {
   "cell_type": "markdown",
   "metadata": {
    "id": "mo_i-btpZw-m"
   },
   "source": [
    "## Exercise 4: Training using the pre-built torch.optim.SGD\n",
    "\n",
    "Repeat Exercise 3 but now using the package `torch.optim.SGD` to perform SGD:\n",
    "\n",
    "\n",
    "https://pytorch.org/docs/stable/optim.html?highlight=torch%20optim%20sgd#torch.optim.SGD\n",
    "\n",
    "\n",
    "Plot the same training curves and accuracy curves. Check that your learning curves are similar to those in Exercise 3. You can for example overlay them or plot them side by side with subplot."
   ]
  },
  {
   "cell_type": "code",
   "execution_count": null,
   "metadata": {
    "id": "CCnQoLCXrpBt"
   },
   "outputs": [],
   "source": [
    "#Answer for SGD\n",
    "import torch\n",
    "#Make sure to reinitialize your network to random before starting training\n",
    "initialize_nn(param_dict)\n",
    "\n",
    "#optim.SGD takes a list of parameters which you can get from your dictionary as follows\n",
    "parameter_list = param_dict.values()\n",
    "\n",
    "optimizer = torch.optim.SGD(parameter_list, lr=alpha)\n",
    "\n",
    "\n"
   ]
  },
  {
   "cell_type": "markdown",
   "metadata": {
    "id": "rYqVuiN0dK6z"
   },
   "source": [
    "## Optional: Training using mini-batch SGD with momentum\n",
    "\n",
    "Modify the code from Exercises 3 and 4 to perform minibatch SGD with momentum. Use a momentum of $\\mu=0.9$ and learning rate $\\alpha=0.01$. Use the following formulation of momentum:\n",
    "\n",
    "- $g = \\nabla_wCE(f(w_t,X),Y)$: gradient estimate with mini-batch\n",
    "- $v_{t+1} = \\mu * v_t + g$\n",
    "- $w_{t+1} = w - \\alpha*v_{t+1}$\n",
    "\n",
    "Obtain the same plots as before and a final test accuracy."
   ]
  },
  {
   "cell_type": "code",
   "execution_count": null,
   "metadata": {
    "id": "eAI69yxnrA-S"
   },
   "outputs": [],
   "source": [
    "# Reinitialize your network to random!\n",
    "initialize_nn(param_dict)\n",
    "\n",
    "losses = [] # use to append the avg loss for each minibatch\n",
    "train_acc = [] # use to append the avg acc of minibatch\n",
    "\n",
    "alpha=0.01\n",
    "mu=0.9\n",
    "\n",
    "for epoch in range(20):\n",
    "  for ... # Iterate over dataset\n",
    "    # Compute the gradient for the minibatch\n",
    "\n",
    "    # Update the model parameters as described above\n",
    "\n",
    "\n",
    "    for (_,param) in param_dict.items():\n",
    "      with torch.no_grad():\n",
    "        #update the parameters\n",
    "      if param.grad is not None:\n",
    "        # The following code will clear the gradient buffers for the next iteration\n",
    "        param.grad.detach_()\n",
    "        param.grad.zero_()\n",
    "\n",
    "    #Update loss and acc tracking\n",
    "\n",
    "#Plot the train loss and acc\n",
    "\n",
    "#Evaluate on the test set"
   ]
  },
  {
   "cell_type": "code",
   "execution_count": null,
   "metadata": {
    "id": "fy8p8DUIkT8m"
   },
   "outputs": [],
   "source": [
    "# Answer for SGD+momentum"
   ]
  }
 ],
 "metadata": {
  "accelerator": "GPU",
  "colab": {
   "provenance": []
  },
  "kernelspec": {
   "display_name": "Python 3 (ipykernel)",
   "language": "python",
   "name": "python3"
  },
  "language_info": {
   "codemirror_mode": {
    "name": "ipython",
    "version": 3
   },
   "file_extension": ".py",
   "mimetype": "text/x-python",
   "name": "python",
   "nbconvert_exporter": "python",
   "pygments_lexer": "ipython3",
   "version": "3.10.13"
  }
 },
 "nbformat": 4,
 "nbformat_minor": 4
}
